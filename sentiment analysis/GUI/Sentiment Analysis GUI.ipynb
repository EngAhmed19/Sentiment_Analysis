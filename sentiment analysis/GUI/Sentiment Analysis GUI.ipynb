{
 "cells": [
  {
   "cell_type": "code",
   "execution_count": 4,
   "id": "64697784-ea16-4084-b224-17ad3e7b5591",
   "metadata": {},
   "outputs": [],
   "source": [
    "from tensorflow.keras.models import load_model"
   ]
  },
  {
   "cell_type": "code",
   "execution_count": 6,
   "id": "98236261-6c64-4f85-b9c3-799d8a8229d9",
   "metadata": {},
   "outputs": [],
   "source": [
    "model=load_model(\"IMDB_model.keras\")"
   ]
  },
  {
   "cell_type": "code",
   "execution_count": 7,
   "id": "cd0988c3-8f3e-4ad8-a13c-7c8d70990e03",
   "metadata": {},
   "outputs": [],
   "source": [
    "from keras.preprocessing.sequence import pad_sequences"
   ]
  },
  {
   "cell_type": "code",
   "execution_count": 8,
   "id": "a8a244a9-7730-438e-b69b-c05a25ea2f2e",
   "metadata": {},
   "outputs": [],
   "source": [
    "import pickle\n",
    "\n",
    "# Load the tokenizer from the file\n",
    "with open('tokenizer.pkl', 'rb') as f:\n",
    "    tokenizer = pickle.load(f)"
   ]
  },
  {
   "cell_type": "code",
   "execution_count": 9,
   "id": "65dc0c28-b2eb-4740-baee-3663eb0d47ae",
   "metadata": {},
   "outputs": [],
   "source": [
    "def preprocess_given_text(text, tokenizer):\n",
    "    sequence = tokenizer.texts_to_sequences([text])\n",
    "    \n",
    "    padded_sequence = pad_sequences(sequence, maxlen=100)\n",
    "    \n",
    "    return padded_sequence"
   ]
  },
  {
   "cell_type": "code",
   "execution_count": 7,
   "id": "113beb76-d79d-430b-9f95-7822369996e5",
   "metadata": {},
   "outputs": [],
   "source": [
    "def predict_sentiment(text):\n",
    "   padded_sequence = preprocess_given_text(text, tokenizer)\n",
    "   \n",
    "   prediction = model.predict(padded_sequence)\n",
    "\n",
    "   if prediction[0][0] > prediction[0][1]:\n",
    "       return \"Negative\" ,prediction[0][1],prediction[0][0]\n",
    "   else:\n",
    "       return \"Positive\",prediction[0][1],prediction[0][0]"
   ]
  },
  {
   "cell_type": "code",
   "execution_count": 73,
   "id": "d36dc185-b3f3-4e6d-be59-1d1aa6b607f5",
   "metadata": {},
   "outputs": [],
   "source": [
    "def make_prediction():\n",
    "    user_input=text_box.get()\n",
    "\n",
    "    result,postive_conf,negative_conf=predict_sentiment(user_input)\n",
    "\n",
    "    result_label1.configure(text=f\"The presentge to be Positive is {postive_conf*100:.2f}%\",text_color=\"green\")\n",
    "    result_label2.configure(text=f\"The presentge to be Negative is {negative_conf*100:.2f}%\",text_color=\"red\")\n",
    "    result_label3.configure(text=f\"The Final Result is {result}\")\n",
    "    \n",
    "    "
   ]
  },
  {
   "cell_type": "code",
   "execution_count": 74,
   "id": "0ad93383-6dad-49ec-9881-3fd86ee72491",
   "metadata": {},
   "outputs": [],
   "source": [
    "import customtkinter"
   ]
  },
  {
   "cell_type": "code",
   "execution_count": 75,
   "id": "290dc2dc-c7a0-4e7c-aceb-511a408addad",
   "metadata": {},
   "outputs": [],
   "source": [
    "app=customtkinter.CTk()"
   ]
  },
  {
   "cell_type": "code",
   "execution_count": 76,
   "id": "545fb3b7-dcd5-4d96-b836-de89c332c7e1",
   "metadata": {},
   "outputs": [],
   "source": [
    "customtkinter.set_appearance_mode(\"dark\")\n",
    "customtkinter.set_default_color_theme(\"dark-blue\")"
   ]
  },
  {
   "cell_type": "code",
   "execution_count": 77,
   "id": "19b1f96a-eea6-4ba3-93ee-bf0524982b3e",
   "metadata": {},
   "outputs": [],
   "source": [
    "screen_width=app.winfo_screenwidth()\n",
    "screen_height=app.winfo_screenheight()\n",
    "dims=200\n",
    "w=300\n",
    "h=300\n",
    "\n",
    "a=(screen_width/2)-(w/2)\n",
    "b=(screen_height/2)-(h/2)\n",
    "\n",
    "\n",
    "app.geometry(\"%dx%d+%d+%d\" %(w,h,a,b))"
   ]
  },
  {
   "cell_type": "code",
   "execution_count": 78,
   "id": "a7611c02-d5df-4c16-a2b6-55388c89ebb3",
   "metadata": {},
   "outputs": [
    {
     "data": {
      "text/plain": [
       "''"
      ]
     },
     "execution_count": 78,
     "metadata": {},
     "output_type": "execute_result"
    }
   ],
   "source": [
    "app.title(\"Sentiment Analysis\")"
   ]
  },
  {
   "cell_type": "code",
   "execution_count": 79,
   "id": "d2a5c44c-b3f5-4ecb-995e-aa3dc2dec896",
   "metadata": {},
   "outputs": [],
   "source": [
    "app.grid_columnconfigure(0, weight=1)"
   ]
  },
  {
   "cell_type": "code",
   "execution_count": 80,
   "id": "e64c4578-5ecf-45a4-9fa2-6213f72ecf89",
   "metadata": {},
   "outputs": [],
   "source": [
    "frame1=customtkinter.CTkFrame(app,width=300,height=300,fg_color=\"transparent\")\n",
    "frame1.grid(row=0,column=0,padx=10,pady=10)"
   ]
  },
  {
   "cell_type": "code",
   "execution_count": 81,
   "id": "2bb3da0c-2cb2-4e9b-9e8a-34b445bb74ca",
   "metadata": {},
   "outputs": [],
   "source": [
    "text_box=customtkinter.CTkEntry(frame1,placeholder_text=\"Enter your Review\",width=200)\n",
    "text_box.grid(row=0,column=0,padx=10,pady=10)"
   ]
  },
  {
   "cell_type": "code",
   "execution_count": 82,
   "id": "6fbc15ef-99a5-4cfe-aa57-1647736254f4",
   "metadata": {},
   "outputs": [],
   "source": [
    "button=customtkinter.CTkButton(frame1,text=\"Analyse\",command=make_prediction)\n",
    "button.grid(row=1,column=0,padx=10,pady=5)"
   ]
  },
  {
   "cell_type": "code",
   "execution_count": 83,
   "id": "8c4e1f3d-334b-4635-a755-a4dfb05df68c",
   "metadata": {},
   "outputs": [],
   "source": [
    "result_label1 = customtkinter.CTkLabel(frame1, text=\"\")\n",
    "result_label1.grid(row=2,column=0,padx=10,pady=10)"
   ]
  },
  {
   "cell_type": "code",
   "execution_count": 84,
   "id": "74bb60fc-4a29-49d6-8748-720adb9fbb05",
   "metadata": {},
   "outputs": [],
   "source": [
    "result_label2= customtkinter.CTkLabel(frame1, text=\"\")\n",
    "result_label2.grid(row=3,column=0,padx=10,pady=10)"
   ]
  },
  {
   "cell_type": "code",
   "execution_count": 85,
   "id": "7aa8b3de-4e82-4b88-ada2-429e5739e111",
   "metadata": {},
   "outputs": [],
   "source": [
    "result_label3= customtkinter.CTkLabel(frame1, text=\"\")\n",
    "result_label3.grid(row=4,column=0,padx=10,pady=10)"
   ]
  },
  {
   "cell_type": "code",
   "execution_count": 86,
   "id": "59319d7e-01ec-4f88-9a28-35deee7cf97b",
   "metadata": {},
   "outputs": [
    {
     "name": "stdout",
     "output_type": "stream",
     "text": [
      "\u001b[1m1/1\u001b[0m \u001b[32m━━━━━━━━━━━━━━━━━━━━\u001b[0m\u001b[37m\u001b[0m \u001b[1m0s\u001b[0m 26ms/step\n",
      "\u001b[1m1/1\u001b[0m \u001b[32m━━━━━━━━━━━━━━━━━━━━\u001b[0m\u001b[37m\u001b[0m \u001b[1m0s\u001b[0m 28ms/step\n",
      "\u001b[1m1/1\u001b[0m \u001b[32m━━━━━━━━━━━━━━━━━━━━\u001b[0m\u001b[37m\u001b[0m \u001b[1m0s\u001b[0m 22ms/step\n"
     ]
    }
   ],
   "source": [
    "app.mainloop()"
   ]
  },
  {
   "cell_type": "code",
   "execution_count": null,
   "id": "adbcbd13-b6f8-4561-b1dd-736df5e2595c",
   "metadata": {},
   "outputs": [],
   "source": []
  },
  {
   "cell_type": "code",
   "execution_count": null,
   "id": "98c1cc15-d1b5-4548-b214-e87bb974614f",
   "metadata": {},
   "outputs": [],
   "source": []
  }
 ],
 "metadata": {
  "kernelspec": {
   "display_name": "Python 3 (ipykernel)",
   "language": "python",
   "name": "python3"
  },
  "language_info": {
   "codemirror_mode": {
    "name": "ipython",
    "version": 3
   },
   "file_extension": ".py",
   "mimetype": "text/x-python",
   "name": "python",
   "nbconvert_exporter": "python",
   "pygments_lexer": "ipython3",
   "version": "3.11.0"
  }
 },
 "nbformat": 4,
 "nbformat_minor": 5
}
